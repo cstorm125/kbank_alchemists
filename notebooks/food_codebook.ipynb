{
 "cells": [
  {
   "cell_type": "markdown",
   "metadata": {},
   "source": [
    "# Construct allrecipes.com Dataset"
   ]
  },
  {
   "cell_type": "markdown",
   "metadata": {},
   "source": [
    "We scrape `allrecipes.com` for all recipe details including nutritions, preparations and ratings. Total number of recipes is estimated to be around 240,000. Due to time contraint, for the proposal we will be scraping only those under `World Cuisine` section resulting in 17,097 recipes from 17 styles of cooking."
   ]
  },
  {
   "cell_type": "markdown",
   "metadata": {},
   "source": [
    "### Recipe Variables\n",
    "* `recipe_name`: Name of Recipe\n",
    "* `titles`: Tags of recipe such as `World Cuisine`, `Korean`, etc.\n",
    "* `ratings`: Ratings\n",
    "* `nb_reviews`: Number of reviews \n",
    "* `desc`: Description of recipe \n",
    "* `ingre_names`: Names of Ingredients (uncleaned)\n",
    "* `ingre_ids`: IDs of Ingredients \n",
    "* `ready_time`: Time to Prepare and Cook \n",
    "* `directions`: Directions of Cooking\n",
    "* `nb_servings`: Number of Servings \n",
    "\n",
    "### Nutrient Variables (Per Serving)\n",
    "* `nb_calories`: kcal\n",
    "* `total_fat`: Total Fat (g)\n",
    "* `saturated_fat`: Saturated Fat (g) \n",
    "* `cholesterol`: Cholesterol (mg) \n",
    "* `sodium`: Sodium (mg)\n",
    "* `potassium`: Potassium (mg)\n",
    "* `total_carbohydrates`: Total Carbohydrates (g)\n",
    "* `dietary_fiber`: Dietary Fiber (g)\n",
    "* `protein`: Protein (g)\n",
    "* `sugars`: Sugars (g)\n",
    "* `vitamin_a`: Vitamin A (IU)\n",
    "* `vitamin_c`: Vitamin C (mg)\n",
    "* `calcium`: Calcium (mg)\n",
    "* `iron`: Iron (mg)\n",
    "* `thiamin`: Thiamin (mg)\n",
    "* `niacin`: Niacin (mg)\n",
    "* `vitamin_b6`: Vitamin B6 (mg)\n",
    "* `magnesium`: Magnesium (mg)\n",
    "* `folate`: Folate (mcg)"
   ]
  },
  {
   "cell_type": "code",
   "execution_count": 9,
   "metadata": {},
   "outputs": [],
   "source": [
    "import re\n",
    "import numpy as np\n",
    "import pandas as pd\n",
    "from bs4 import BeautifulSoup\n",
    "import urllib\n",
    "from collections import Counter\n",
    "import matplotlib.pyplot as plt\n",
    "import seaborn as sns\n",
    "from datetime import datetime\n",
    "\n",
    "DATA_PATH='data/'\n",
    "RAW_PATH = f'{DATA_PATH}raw/'\n",
    "MAX_TRIES = 10\n",
    "\n",
    "#all available recipes\n",
    "recipe_range = range(6663,247479)\n",
    "\n",
    "def get_soup(url,nth_try=0):\n",
    "    i = nth_try + 1\n",
    "    if i > MAX_TRIES: return(None)\n",
    "    try:\n",
    "        #read html\n",
    "        f = urllib.request.urlopen(url)\n",
    "        page_bytes = f.read()\n",
    "        page = page_bytes.decode(\"utf8\")\n",
    "        f.close()\n",
    "        #parse\n",
    "        soup = BeautifulSoup(page,'html.parser')\n",
    "        return(soup)\n",
    "    except:\n",
    "        print(f'Trying for {i}th time')\n",
    "        time.sleep(1)\n",
    "        return(get_soup(url,i))"
   ]
  },
  {
   "cell_type": "markdown",
   "metadata": {},
   "source": [
    "## Scrape All Listing Pages and Recipe Page URLs Under World Cuisine"
   ]
  },
  {
   "cell_type": "markdown",
   "metadata": {},
   "source": [
    "We go into the `World Cuisine` section and found 17 styles of cooking. Out of those 17, we scraped the URLs of their recipes listing page by listing page. There are some overlapping styles; that is, one recipe can belong to both `Asian` and `Japanese`. For simplicity, we pick one based on reverse alphabetical order (happens to put more granular categories such as `Japanese` and `Korean` over `Asian` as well as `Mexican` over `Latin America`). "
   ]
  },
  {
   "cell_type": "code",
   "execution_count": 2,
   "metadata": {},
   "outputs": [
    {
     "name": "stdout",
     "output_type": "stream",
     "text": [
      "Trying for 1th time\n"
     ]
    },
    {
     "data": {
      "text/plain": [
       "(17, 17, 1079)"
      ]
     },
     "execution_count": 2,
     "metadata": {},
     "output_type": "execute_result"
    }
   ],
   "source": [
    "world_cuisine_url = 'https://www.allrecipes.com/recipes/86/world-cuisine/'\n",
    "soup = get_soup(world_cuisine_url)\n",
    "#all country page urls\n",
    "country_urls = [i.get('href') for i in soup.find_all('a',class_='grid-col--subnav')]\n",
    "#number of pages available for each country\n",
    "country_pages = [120,134,19,39,14,163,60,21,14,164,28,56,25,13,8,8,193] \n",
    "len(country_urls),len(country_pages),np.sum(country_pages)"
   ]
  },
  {
   "cell_type": "code",
   "execution_count": null,
   "metadata": {},
   "outputs": [],
   "source": [
    "# recipe_urls=[]\n",
    "# for j in range(len(country_pages)):\n",
    "#     print(f'Scraping {country_urls[j]}')\n",
    "#     for i in range(1,country_pages[j]+1):\n",
    "# #         print(f'Loading page {i}')\n",
    "#         page_url = f'{country_urls[j]}?page={i}'\n",
    "#         try:\n",
    "#             soup = get_soup(page_url)\n",
    "#             recipe_soup = soup.find_all('article',class_='fixed-recipe-card')\n",
    "#             recipe_url = [(i.find('a').get('href'),country_urls[j].split('/')[-2]) for i in recipe_soup]\n",
    "#             recipe_urls += recipe_url\n",
    "#         except:\n",
    "#             print(f'Cannot load page {i}')\n",
    "\n",
    "# np.save(f'{RAW_PATH}recipe_urls.npy',recipe_urls)"
   ]
  },
  {
   "cell_type": "code",
   "execution_count": 10,
   "metadata": {},
   "outputs": [
    {
     "data": {
      "text/plain": [
       "21558"
      ]
     },
     "execution_count": 10,
     "metadata": {},
     "output_type": "execute_result"
    }
   ],
   "source": [
    "recipe_urls = np.load(f'{RAW_PATH}recipe_urls.npy')\n",
    "len(recipe_urls)"
   ]
  },
  {
   "cell_type": "code",
   "execution_count": 77,
   "metadata": {},
   "outputs": [
    {
     "name": "stdout",
     "output_type": "stream",
     "text": [
      "(17097, 3)\n"
     ]
    },
    {
     "data": {
      "text/html": [
       "<div>\n",
       "<style scoped>\n",
       "    .dataframe tbody tr th:only-of-type {\n",
       "        vertical-align: middle;\n",
       "    }\n",
       "\n",
       "    .dataframe tbody tr th {\n",
       "        vertical-align: top;\n",
       "    }\n",
       "\n",
       "    .dataframe thead th {\n",
       "        text-align: right;\n",
       "    }\n",
       "</style>\n",
       "<table border=\"1\" class=\"dataframe\">\n",
       "  <thead>\n",
       "    <tr style=\"text-align: right;\">\n",
       "      <th></th>\n",
       "      <th>country</th>\n",
       "      <th>recipe_url</th>\n",
       "      <th>rank</th>\n",
       "    </tr>\n",
       "  </thead>\n",
       "  <tbody>\n",
       "    <tr>\n",
       "      <th>17188</th>\n",
       "      <td>japanese</td>\n",
       "      <td>https://www.allrecipes.com/recipe/100008/homem...</td>\n",
       "      <td>1.0</td>\n",
       "    </tr>\n",
       "    <tr>\n",
       "      <th>4028</th>\n",
       "      <td>italian</td>\n",
       "      <td>https://www.allrecipes.com/recipe/10001/chocol...</td>\n",
       "      <td>1.0</td>\n",
       "    </tr>\n",
       "    <tr>\n",
       "      <th>9937</th>\n",
       "      <td>latin-american</td>\n",
       "      <td>https://www.allrecipes.com/recipe/100011/pork-...</td>\n",
       "      <td>1.0</td>\n",
       "    </tr>\n",
       "    <tr>\n",
       "      <th>15389</th>\n",
       "      <td>australian-and-new-zealander</td>\n",
       "      <td>https://www.allrecipes.com/recipe/10004/pavlova/</td>\n",
       "      <td>1.0</td>\n",
       "    </tr>\n",
       "    <tr>\n",
       "      <th>18204</th>\n",
       "      <td>us-recipes</td>\n",
       "      <td>https://www.allrecipes.com/recipe/100056/jalap...</td>\n",
       "      <td>1.0</td>\n",
       "    </tr>\n",
       "  </tbody>\n",
       "</table>\n",
       "</div>"
      ],
      "text/plain": [
       "                            country  \\\n",
       "17188                      japanese   \n",
       "4028                        italian   \n",
       "9937                 latin-american   \n",
       "15389  australian-and-new-zealander   \n",
       "18204                    us-recipes   \n",
       "\n",
       "                                              recipe_url  rank  \n",
       "17188  https://www.allrecipes.com/recipe/100008/homem...   1.0  \n",
       "4028   https://www.allrecipes.com/recipe/10001/chocol...   1.0  \n",
       "9937   https://www.allrecipes.com/recipe/100011/pork-...   1.0  \n",
       "15389   https://www.allrecipes.com/recipe/10004/pavlova/   1.0  \n",
       "18204  https://www.allrecipes.com/recipe/100056/jalap...   1.0  "
      ]
     },
     "execution_count": 77,
     "metadata": {},
     "output_type": "execute_result"
    }
   ],
   "source": [
    "ents = []\n",
    "for i in range(len(recipe_urls)):\n",
    "    ent = {'country':recipe_urls[i][1],'recipe_url':recipe_urls[i][0]}\n",
    "    ents.append(ent)\n",
    "url_df = pd.DataFrame(ents)\n",
    "url_df = url_df.sort_values('recipe_url')\n",
    "size_agg = url_df.groupby('recipe_url').size()\n",
    "url_df['rank']=url_df.groupby('recipe_url')['country'].rank(ascending=False)\n",
    "url_df = url_df.query('rank==1')\n",
    "url_df.to_csv(f'{DATA_PATH}url_df.csv')\n",
    "print(url_df.shape)\n",
    "url_df.head()"
   ]
  },
  {
   "cell_type": "code",
   "execution_count": 78,
   "metadata": {},
   "outputs": [
    {
     "data": {
      "image/png": "[encoded data removed]",
      "text/plain": [
       "<Figure size 432x288 with 1 Axes>"
      ]
     },
     "metadata": {},
     "output_type": "display_data"
    }
   ],
   "source": [
    "country_agg = url_df.pivot_table(index='country',values='recipe_url',aggfunc=len)\n",
    "country_agg = country_agg.sort_values('recipe_url',ascending=False)\n",
    "country_agg['country'] = country_agg.index\n",
    "g = sns.barplot(x=country_agg['country'],y=country_agg['recipe_url'])\n",
    "g = g.set_xticklabels(g.get_xticklabels(), rotation=90)"
   ]
  },
  {
   "cell_type": "code",
   "execution_count": 90,
   "metadata": {},
   "outputs": [
    {
     "data": {
      "text/html": [
       "<div>\n",
       "<style scoped>\n",
       "    .dataframe tbody tr th:only-of-type {\n",
       "        vertical-align: middle;\n",
       "    }\n",
       "\n",
       "    .dataframe tbody tr th {\n",
       "        vertical-align: top;\n",
       "    }\n",
       "\n",
       "    .dataframe thead th {\n",
       "        text-align: right;\n",
       "    }\n",
       "</style>\n",
       "<table border=\"1\" class=\"dataframe\">\n",
       "  <thead>\n",
       "    <tr style=\"text-align: right;\">\n",
       "      <th></th>\n",
       "      <th>recipe_url</th>\n",
       "      <th>country</th>\n",
       "    </tr>\n",
       "    <tr>\n",
       "      <th>country</th>\n",
       "      <th></th>\n",
       "      <th></th>\n",
       "    </tr>\n",
       "  </thead>\n",
       "  <tbody>\n",
       "    <tr>\n",
       "      <th>us-recipes</th>\n",
       "      <td>3852</td>\n",
       "      <td>us-recipes</td>\n",
       "    </tr>\n",
       "    <tr>\n",
       "      <th>italian</th>\n",
       "      <td>2571</td>\n",
       "      <td>italian</td>\n",
       "    </tr>\n",
       "    <tr>\n",
       "      <th>european</th>\n",
       "      <td>2086</td>\n",
       "      <td>european</td>\n",
       "    </tr>\n",
       "    <tr>\n",
       "      <th>mexican</th>\n",
       "      <td>2044</td>\n",
       "      <td>mexican</td>\n",
       "    </tr>\n",
       "    <tr>\n",
       "      <th>asian</th>\n",
       "      <td>1620</td>\n",
       "      <td>asian</td>\n",
       "    </tr>\n",
       "    <tr>\n",
       "      <th>canadian</th>\n",
       "      <td>934</td>\n",
       "      <td>canadian</td>\n",
       "    </tr>\n",
       "    <tr>\n",
       "      <th>indian</th>\n",
       "      <td>739</td>\n",
       "      <td>indian</td>\n",
       "    </tr>\n",
       "    <tr>\n",
       "      <th>latin-american</th>\n",
       "      <td>667</td>\n",
       "      <td>latin-american</td>\n",
       "    </tr>\n",
       "    <tr>\n",
       "      <th>french</th>\n",
       "      <td>475</td>\n",
       "      <td>french</td>\n",
       "    </tr>\n",
       "    <tr>\n",
       "      <th>middle-eastern</th>\n",
       "      <td>396</td>\n",
       "      <td>middle-eastern</td>\n",
       "    </tr>\n",
       "    <tr>\n",
       "      <th>australian-and-new-zealander</th>\n",
       "      <td>379</td>\n",
       "      <td>australian-and-new-zealander</td>\n",
       "    </tr>\n",
       "    <tr>\n",
       "      <th>chinese</th>\n",
       "      <td>357</td>\n",
       "      <td>chinese</td>\n",
       "    </tr>\n",
       "    <tr>\n",
       "      <th>thai</th>\n",
       "      <td>252</td>\n",
       "      <td>thai</td>\n",
       "    </tr>\n",
       "    <tr>\n",
       "      <th>japanese</th>\n",
       "      <td>227</td>\n",
       "      <td>japanese</td>\n",
       "    </tr>\n",
       "    <tr>\n",
       "      <th>african</th>\n",
       "      <td>215</td>\n",
       "      <td>african</td>\n",
       "    </tr>\n",
       "    <tr>\n",
       "      <th>korean</th>\n",
       "      <td>144</td>\n",
       "      <td>korean</td>\n",
       "    </tr>\n",
       "    <tr>\n",
       "      <th>mediterranean-diet</th>\n",
       "      <td>139</td>\n",
       "      <td>mediterranean-diet</td>\n",
       "    </tr>\n",
       "  </tbody>\n",
       "</table>\n",
       "</div>"
      ],
      "text/plain": [
       "                              recipe_url                       country\n",
       "country                                                               \n",
       "us-recipes                          3852                    us-recipes\n",
       "italian                             2571                       italian\n",
       "european                            2086                      european\n",
       "mexican                             2044                       mexican\n",
       "asian                               1620                         asian\n",
       "canadian                             934                      canadian\n",
       "indian                               739                        indian\n",
       "latin-american                       667                latin-american\n",
       "french                               475                        french\n",
       "middle-eastern                       396                middle-eastern\n",
       "australian-and-new-zealander         379  australian-and-new-zealander\n",
       "chinese                              357                       chinese\n",
       "thai                                 252                          thai\n",
       "japanese                             227                      japanese\n",
       "african                              215                       african\n",
       "korean                               144                        korean\n",
       "mediterranean-diet                   139            mediterranean-diet"
      ]
     },
     "execution_count": 90,
     "metadata": {},
     "output_type": "execute_result"
    }
   ],
   "source": [
    "country_agg"
   ]
  },
  {
   "cell_type": "markdown",
   "metadata": {},
   "source": [
    "## Scrape All Recipe Pages in World Cuisine"
   ]
  },
  {
   "cell_type": "markdown",
   "metadata": {},
   "source": [
    "In addition to the recipe page listed in the above URLs, we also scrape the nutritional fact pages listed as sub-page `/fullrecipenutrition`."
   ]
  },
  {
   "cell_type": "code",
   "execution_count": 85,
   "metadata": {},
   "outputs": [],
   "source": [
    "# url_df = pd.read_csv(f'{DATA_PATH}url_df.csv')\n",
    "# recipe_urls = list(url_df['recipe_url'])\n",
    "# soups = []\n",
    "# soup_nutris = []\n",
    "# start_time = datetime.now()\n",
    "\n",
    "# for i in range(len(recipe_urls)):\n",
    "#     soup = get_soup(recipe_urls[i])\n",
    "#     soups.append(soup)\n",
    "    \n",
    "#     nutri_url = f'{recipe_urls[i]}fullrecipenutrition'\n",
    "#     soup_nutri = get_soup(nutri_url)\n",
    "#     soup_nutris.append(soup_nutri)\n",
    "    \n",
    "#     if i % 100 == 0:\n",
    "#         print(datetime.now()-start_time)\n",
    "#         np.save(f'{RAW_PATH}soups.npy',[str(s) for s in soups])\n",
    "#         np.save(f'{RAW_PATH}soup_nutris.npy',[str(s) for s in soup_nutris])\n",
    "\n",
    "# np.save(f'{RAW_PATH}soups.npy',[str(s) for s in soups])\n",
    "# np.save(f'{RAW_PATH}soup_nutris.npy',[str(s) for s in soup_nutris])"
   ]
  },
  {
   "cell_type": "markdown",
   "metadata": {},
   "source": [
    "## Parse All Recipe Pages Scraped "
   ]
  },
  {
   "cell_type": "code",
   "execution_count": 14,
   "metadata": {},
   "outputs": [
    {
     "data": {
      "text/plain": [
       "(2001, 2001)"
      ]
     },
     "execution_count": 14,
     "metadata": {},
     "output_type": "execute_result"
    }
   ],
   "source": [
    "nutri_names = np.load(f'{RAW_PATH}nutri_names.npy')\n",
    "soups = np.load(f'{RAW_PATH}soups.npy',mmap_mode='r')\n",
    "soup_nutris = np.load(f'{RAW_PATH}soup_nutris.npy',mmap_mode='r')\n",
    "len(soups),len(soup_nutris)"
   ]
  },
  {
   "cell_type": "code",
   "execution_count": 15,
   "metadata": {},
   "outputs": [
    {
     "name": "stdout",
     "output_type": "stream",
     "text": [
      "0 0:00:00.000678\n",
      "100 0:00:18.237355\n",
      "200 0:00:36.425587\n",
      "300 0:00:54.787349\n",
      "400 0:01:13.039826\n",
      "500 0:01:31.171980\n",
      "600 0:01:49.273215\n",
      "700 0:02:08.324129\n",
      "800 0:02:26.890283\n",
      "900 0:02:45.427840\n",
      "1000 0:03:04.679360\n",
      "1100 0:03:23.347721\n",
      "1200 0:03:41.861001\n",
      "1300 0:04:00.060413\n",
      "1400 0:04:18.419189\n",
      "1500 0:04:37.006473\n",
      "1600 0:04:55.513741\n",
      "1700 0:05:14.075888\n",
      "1800 0:05:32.890859\n",
      "1900 0:05:51.472012\n",
      "2000 0:06:09.789378\n"
     ]
    }
   ],
   "source": [
    "ents=[]\n",
    "start_time = datetime.now()\n",
    "for i in range(len(soups)):\n",
    "    if i % 100 ==0: print(f'{i} {datetime.now()-start_time}')\n",
    "    soup = BeautifulSoup(soups[i],'html.parser')\n",
    "    #if there's no recipe page at all\n",
    "    try:\n",
    "        recipe_url = soup.find('link', id='canonicalUrl').get('href')\n",
    "    except:\n",
    "        continue\n",
    "    recipe_name = soup.find('h1',class_='recipe-summary__h1').get_text()\n",
    "    titles = [' '.join(i.get_text().split()) for i in soup.find_all('span',class_='toggle-similar__title')]\n",
    "    titles = '|'.join(titles)\n",
    "    ratings = float(soup.find('div',class_='rating-stars').get('data-ratingstars'))\n",
    "    nb_reviews = int(soup.find('span',class_='review-count').get_text().split(' ')[0])\n",
    "    desc = ' '.join(soup.find('div', class_='submitter__description').get_text().split())\n",
    "    ingre_names = soup.find_all('li',class_='checkList__line')\n",
    "    ingre_names = '|'.join([re.sub('[^a-zA-Z0-9 ]','',i.get_text()) for i in ingre_names][:-3])\n",
    "    ingre_ids = soup.find_all('span', class_='recipe-ingred_txt added')\n",
    "    ingre_ids = '|'.join([i.get('data-id') for i in ingre_ids])\n",
    "    all_times = soup.find('ul',class_='prepTime').find_all('time')\n",
    "    ready_time = all_times[-1].get_text() if len(all_times)>0 else None\n",
    "    directions = soup.find_all('li',class_='step')\n",
    "    directions = '|'.join([' '.join(i.get_text().split()) for i in directions][:-1])\n",
    "\n",
    "    soup_nutri = BeautifulSoup(soup_nutris[i],'html.parser')\n",
    "    #if there's no nutrition page\n",
    "    try:\n",
    "        nutri_top = soup_nutri.find('div',class_='nutrition-top light-underline').get_text()[12:].split('\\n')[:-1]\n",
    "        nb_servings = int(nutri_top[0].split(': ')[1])\n",
    "        nb_calories = int(nutri_top[2].split(': ')[1])\n",
    "        nutri_names = soup_nutri.find_all('span',class_='nutrient-name')\n",
    "        nutri_names = [re.sub(' ','_',i.get_text().split(': ')[0].lower()) for i in nutri_names]\n",
    "        nutri_values = soup_nutri.find_all('span',class_='nutrient-value')\n",
    "        nutri_values = [float(re.sub('[^0-9 ]','',i.get_text())) for i in nutri_values]\n",
    "    except:\n",
    "        nb_servings = None\n",
    "        nb_calories = None\n",
    "        nutri_names = np.load(f'{RAW_PATH}nutri_names.npy')\n",
    "        nutri_values = [None for i in range(18)]\n",
    "\n",
    "    ent = {'recipe_name':recipe_name, 'titles':titles, 'ratings':ratings, 'nb_reviews':nb_reviews,\n",
    "          'desc':desc, 'ingre_names':ingre_names,'ingre_ids':ingre_ids,\n",
    "          'ready_time':ready_time,\n",
    "          'directions':directions,'nb_servings':nb_servings,'nb_calories':nb_calories}\n",
    "    for j in range(len(nutri_names)): ent[nutri_names[j]] = nutri_values[j] \n",
    "    ents.append(ent)\n",
    "\n",
    "df = pd.DataFrame(ents)\n",
    "food_df = df[list(ent.keys())]\n",
    "food_df.to_csv(f'{DATA_PATH}food_df.csv',index=False)"
   ]
  }
 ],
 "metadata": {
  "kernelspec": {
   "display_name": "Python 3",
   "language": "python",
   "name": "python3"
  },
  "language_info": {
   "codemirror_mode": {
    "name": "ipython",
    "version": 3
   },
   "file_extension": ".py",
   "mimetype": "text/x-python",
   "name": "python",
   "nbconvert_exporter": "python",
   "pygments_lexer": "ipython3",
   "version": "3.6.5"
  }
 },
 "nbformat": 4,
 "nbformat_minor": 2
}
